{
 "cells": [
  {
   "cell_type": "markdown",
   "id": "64f52841",
   "metadata": {},
   "source": [
    "# Have the function PowersofTwo(num) take the num parameter being passed which will be an integer and return the string true if it's a power of two. If it's not return the string false. For example if the input is 16 then your program should return the string true but if the input is 22 then the output should be the string false."
   ]
  },
  {
   "cell_type": "code",
   "execution_count": 1,
   "id": "1e9f5d90",
   "metadata": {},
   "outputs": [
    {
     "name": "stdout",
     "output_type": "stream",
     "text": [
      "true\n",
      "false\n",
      "true\n",
      "false\n"
     ]
    }
   ],
   "source": [
    "def PowersofTwo(num):\n",
    "    # Check if the number is greater than 0 and if num is a power of two using bitwise operation\n",
    "    if num > 0 and (num & (num - 1)) == 0:\n",
    "        return \"true\"\n",
    "    else:\n",
    "        return \"false\"\n",
    "\n",
    "# Example usage\n",
    "print(PowersofTwo(16))  \n",
    "print(PowersofTwo(22))  \n",
    "print(PowersofTwo(1))   \n",
    "print(PowersofTwo(0))"
   ]
  },
  {
   "cell_type": "code",
   "execution_count": null,
   "id": "b14f0a39",
   "metadata": {},
   "outputs": [],
   "source": []
  }
 ],
 "metadata": {
  "kernelspec": {
   "display_name": "Python 3 (ipykernel)",
   "language": "python",
   "name": "python3"
  },
  "language_info": {
   "codemirror_mode": {
    "name": "ipython",
    "version": 3
   },
   "file_extension": ".py",
   "mimetype": "text/x-python",
   "name": "python",
   "nbconvert_exporter": "python",
   "pygments_lexer": "ipython3",
   "version": "3.10.9"
  }
 },
 "nbformat": 4,
 "nbformat_minor": 5
}
